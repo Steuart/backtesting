{
 "cells": [
  {
   "cell_type": "code",
   "execution_count": 1,
   "id": "eae4e5d6",
   "metadata": {},
   "outputs": [
    {
     "name": "stdout",
     "output_type": "stream",
     "text": [
      "(datetime.datetime(2025, 10, 16, 16, 0, tzinfo=datetime.timezone.utc), '159117.SZ', Decimal('1.0020'), Decimal('1.0040'), Decimal('0.9920'), Decimal('0.9930'), Decimal('1.0040'), Decimal('-0.0110'), Decimal('-1.0956'), Decimal('858520.3600'), Decimal('85817.5140'), datetime.datetime(2025, 10, 22, 10, 17, 42, 605010, tzinfo=datetime.timezone.utc), datetime.datetime(2025, 10, 22, 10, 17, 42, 605010, tzinfo=datetime.timezone.utc))\n",
      "(datetime.datetime(2025, 10, 19, 16, 0, tzinfo=datetime.timezone.utc), '159117.SZ', Decimal('0.9980'), Decimal('1.0080'), Decimal('0.9980'), Decimal('1.0070'), Decimal('0.9930'), Decimal('0.0140'), Decimal('1.4099'), Decimal('785675.4000'), Decimal('78926.2030'), datetime.datetime(2025, 10, 22, 10, 17, 42, 604976, tzinfo=datetime.timezone.utc), datetime.datetime(2025, 10, 22, 10, 17, 42, 604976, tzinfo=datetime.timezone.utc))\n",
      "(datetime.datetime(2025, 10, 20, 16, 0, tzinfo=datetime.timezone.utc), '159117.SZ', Decimal('1.0080'), Decimal('1.0180'), Decimal('1.0070'), Decimal('1.0130'), Decimal('1.0070'), Decimal('0.0060'), Decimal('0.5958'), Decimal('790574.6100'), Decimal('80127.5510'), datetime.datetime(2025, 10, 22, 10, 17, 42, 604938, tzinfo=datetime.timezone.utc), datetime.datetime(2025, 10, 22, 10, 17, 42, 604938, tzinfo=datetime.timezone.utc))\n",
      "(datetime.datetime(2025, 10, 21, 16, 0, tzinfo=datetime.timezone.utc), '159117.SZ', Decimal('1.0140'), Decimal('1.0140'), Decimal('1.0030'), Decimal('1.0100'), Decimal('1.0130'), Decimal('-0.0030'), Decimal('-0.2962'), Decimal('255870.6900'), Decimal('25818.3820'), datetime.datetime(2025, 10, 22, 10, 17, 42, 604863, tzinfo=datetime.timezone.utc), datetime.datetime(2025, 10, 22, 10, 17, 42, 604863, tzinfo=datetime.timezone.utc))\n"
     ]
    }
   ],
   "source": [
    "import psycopg2\n",
    "from common import config\n",
    "# 连接数据库\n",
    "conn = psycopg2.connect(config.trader_conn_str)\n",
    "# 创建游标\n",
    "cur = conn.cursor()\n",
    "# 查询数据\n",
    "cur.execute(\"SELECT * FROM fund_market where symbol='159117.SZ'\")\n",
    "rows = cur.fetchall()\n",
    "for row in rows:\n",
    "    print(row)\n",
    "\n",
    "# 关闭连接\n",
    "cur.close()\n",
    "# conn.close()"
   ]
  }
 ],
 "metadata": {
  "kernelspec": {
   "display_name": ".venv",
   "language": "python",
   "name": "python3"
  },
  "language_info": {
   "codemirror_mode": {
    "name": "ipython",
    "version": 3
   },
   "file_extension": ".py",
   "mimetype": "text/x-python",
   "name": "python",
   "nbconvert_exporter": "python",
   "pygments_lexer": "ipython3",
   "version": "3.14.0"
  }
 },
 "nbformat": 4,
 "nbformat_minor": 5
}
